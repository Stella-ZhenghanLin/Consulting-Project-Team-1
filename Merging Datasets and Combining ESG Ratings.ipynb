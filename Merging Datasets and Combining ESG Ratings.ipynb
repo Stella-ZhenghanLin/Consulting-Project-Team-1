{
 "cells": [
  {
   "cell_type": "code",
   "execution_count": null,
   "metadata": {},
   "outputs": [],
   "source": [
    "# Importing relevant libraries\n",
    "import pandas as pd"
   ]
  },
  {
   "cell_type": "code",
   "execution_count": null,
   "metadata": {
    "scrolled": true
   },
   "outputs": [],
   "source": [
    "df1 = pd.read_excel('SDG2000_Yahoo_Financial.xlsx') # Dataset containing financial metrics taken from the API\n",
    "df2 = pd.read_excel('SDG2000_Yahoo_Sustainability.xlsx') # Dataset containing sustainability metrics taken from the API\n",
    "df3 = pd.read_excel('SDG2000-shareable-list_28.04.2022 (1).xlsx',sheet_name = '2. SDG2000') # Base dataset\n",
    "df4 = pd.read_excel('SDG2000_Yahoo_Tickers.xlsx') # Dataset with tickers scraped from Yahoo Finanace\n",
    "df5 = pd.read_excel('SDG2000_MSCI_Refinitive.xlsx') # Dataset with information scraped from MSCI and Refinitive"
   ]
  },
  {
   "cell_type": "code",
   "execution_count": null,
   "metadata": {},
   "outputs": [],
   "source": [
    "df6 = df3.merge(df4, how = 'left') # Merging the base dataset with the tickers"
   ]
  },
  {
   "cell_type": "code",
   "execution_count": null,
   "metadata": {},
   "outputs": [],
   "source": [
    "df7 = df6.merge(df1, how = 'left', left_on = 'Ticker', right_on = 'index') # Merging previous dataset with financial metrics"
   ]
  },
  {
   "cell_type": "code",
   "execution_count": null,
   "metadata": {},
   "outputs": [],
   "source": [
    "df8 = df7.merge(df2, how = 'left', left_on = 'Ticker', right_on = 'company_ticker') # Merging previous dataset with sustainability metrics"
   ]
  },
  {
   "cell_type": "code",
   "execution_count": null,
   "metadata": {},
   "outputs": [],
   "source": [
    "df9 = df5[['Name', 'Refinitive_Rating', 'MSCI_Rating']] # Selecting only relevant columns"
   ]
  },
  {
   "cell_type": "code",
   "execution_count": null,
   "metadata": {},
   "outputs": [],
   "source": [
    "df = df8.merge(df9, how = 'left', left_on = 'Name', right_on ='Name') # Merging previous dataset with MSCI Refinitive"
   ]
  },
  {
   "cell_type": "code",
   "execution_count": null,
   "metadata": {},
   "outputs": [],
   "source": [
    "# Adding 0s where the yahoo finance esg ratings are missing and reversing the scores, as in yahoo finance a lower score indicates better esg performance\n",
    "df['totalEsg'] = df['totalEsg'].fillna(0)\n",
    "df['totalEsg'] = 100 - df['totalEsg'] \n",
    "df.loc[df['totalEsg']== 100, 'totalEsg'] = 0"
   ]
  },
  {
   "cell_type": "code",
   "execution_count": null,
   "metadata": {},
   "outputs": [],
   "source": [
    "# Combining the ratings from MSCI Refinitive and Yahoo finance \n",
    "def score(row):\n",
    "    rating = 0\n",
    "    if row['totalEsg'] != 0 & row['MSCI_Rating'] != 0 & row['Refinitive_Rating'] !=0: \n",
    "        rating = row['Refinitive_Rating']*0.4 + row['MSCI_Rating']*0.3 + row['totalEsg']*0.3\n",
    "    elif row['totalEsg'] != 0 & row['Refinitive_Rating'] != 0:\n",
    "        rating = row['Refinitive_Rating']*0.6 + row['totalEsg']*0.4\n",
    "    elif row['totalEsg'] != 0 & row['MSCI_Rating'] != 0:\n",
    "        rating = row['MSCI_Rating']*0.5 + row['totalEsg']*0.5\n",
    "    elif row['MSCI_Rating'] != 0 & row['Refinitive_Rating'] != 0:\n",
    "        rating = row['Refinitive_Rating']*0.6 + row['MSCI_Rating']*0.4\n",
    "    elif row['Refinitive_Rating'] != 0:\n",
    "        rating  = row['Refinitive_Rating']\n",
    "    elif row['MSCI_Rating'] != 0:\n",
    "        rating = row['MSCI_Rating']\n",
    "    elif row['totalEsg'] != 0:\n",
    "        rating = row['totalEsg']\n",
    "    else:\n",
    "        rating = 0\n",
    "    return rating"
   ]
  },
  {
   "cell_type": "code",
   "execution_count": null,
   "metadata": {},
   "outputs": [],
   "source": [
    "# Applying the scoring function to the dataset and creating a new column with the combined rating\n",
    "df['ESG_rating'] = df.apply (lambda row: score(row), axis=1)"
   ]
  },
  {
   "cell_type": "code",
   "execution_count": null,
   "metadata": {},
   "outputs": [],
   "source": [
    "# Dropping columns that are no longer relevant/required\n",
    "df = df.drop(columns = ['Refinitive_Rating', 'MSCI_Rating', 'totalEsg', 'Unnamed: 0_y', 'Unnamed: 0_x', 'Ticker', 'ISIN', 'WBA Unique ID' , 'SEDOL Code', 'index', 'company_ticker','Unnamed: 0', 'peerGroup'])   "
   ]
  },
  {
   "cell_type": "code",
   "execution_count": null,
   "metadata": {},
   "outputs": [],
   "source": [
    "df.to_excel('ESG_final_v3.xlsx') # exporting the database as an excel"
   ]
  }
 ],
 "metadata": {
  "kernelspec": {
   "display_name": "Python 3",
   "language": "python",
   "name": "python3"
  },
  "language_info": {
   "codemirror_mode": {
    "name": "ipython",
    "version": 3
   },
   "file_extension": ".py",
   "mimetype": "text/x-python",
   "name": "python",
   "nbconvert_exporter": "python",
   "pygments_lexer": "ipython3",
   "version": "3.8.5"
  }
 },
 "nbformat": 4,
 "nbformat_minor": 4
}
